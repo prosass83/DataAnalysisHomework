{
 "cells": [
  {
   "cell_type": "code",
   "execution_count": null,
   "metadata": {},
   "outputs": [],
   "source": [
    "# Dependencies\n",
    "from config import gkey, owkey\n",
    "import matplotlib.pyplot as plt\n",
    "import json\n",
    "import requests\n",
    "import random\n",
    "import pandas as pd\n",
    "import numpy as np\n",
    "from pprint import pprint\n",
    "from citipy import citipy"
   ]
  },
  {
   "cell_type": "code",
   "execution_count": null,
   "metadata": {},
   "outputs": [],
   "source": [
    "# Open Weather API preparation\n",
    "url = \"http://api.openweathermap.org/data/2.5/weather?\"\n",
    "units = \"metric\"\n",
    "\n",
    "# Build partial query URL\n",
    "query_url = f\"{url}appid={owkey}&units={units}&q=\""
   ]
  },
  {
   "cell_type": "code",
   "execution_count": null,
   "metadata": {},
   "outputs": [],
   "source": [
    "#Test URL request with one city\n",
    "city = \"malaga\"\n",
    "print(query_url + city)\n",
    "response = requests.get(query_url + city).json()\n",
    "pprint(response)\n",
    "max_temp = response['main']['temp_max']\n",
    "humidity = response['main']['humidity']\n",
    "cloudiness = response['clouds']['all']\n",
    "wind_speed = response['wind']['speed']\n",
    "city_name = response['name']\n",
    "\n",
    "#print(f\"The max temp for {city} is: {max_temp}\")\n",
    "#print(f\"The humidity for {city} is: {humidity}\")\n",
    "#print(f\"The cloudiness for {city} is: {cloudiness}\")\n",
    "#print(f\"The wind speed for {city} is: {wind_speed}\")\n",
    "print(f\"City {city} is: {city_name}\")"
   ]
  },
  {
   "cell_type": "code",
   "execution_count": null,
   "metadata": {},
   "outputs": [],
   "source": [
    "#Generate a list of random coordinates\n",
    "#Limiting coordinates to those from the Iberian Peninsula (I'm Spanish:))\n",
    "lat_lower_limit = 36.00 \n",
    "lat_higher_limit = 43.78\n",
    "lng_lower_limit = -8.87\n",
    "lng_higher_limit = 3.31\n",
    "\n",
    "#Creating data frame full of zeros to store coordinates and nearest city\n",
    "number_of_cities = 10\n",
    "cities = pd.DataFrame(0, index=np.arange(number_of_cities), columns=['Lat', 'Lng', 'City'])\n",
    "cities.head()"
   ]
  },
  {
   "cell_type": "code",
   "execution_count": null,
   "metadata": {},
   "outputs": [],
   "source": [
    "for index, row in cities.iterrows():\n",
    "    \n",
    "    print(\"\\r\\nDrill #\" + str(index))\n",
    "    \n",
    "    lat = random.uniform(lat_lower_limit, lat_higher_limit)\n",
    "    lng = random.uniform(lng_lower_limit, lng_higher_limit)\n",
    "    city = citipy.nearest_city(lat, lng)\n",
    "\n",
    "    cities.loc[[index],['Lat']] = lat\n",
    "    cities.loc[[index],['Lng']] = lng\n",
    "    cities.loc[[index],['City']] = city.city_name\n",
    "    print(\"%s: %s, %s\" % (city.city_name, lat, lng))\n",
    "\n",
    "cities.head()"
   ]
  },
  {
   "cell_type": "code",
   "execution_count": null,
   "metadata": {},
   "outputs": [],
   "source": [
    "#Get Weather information for each city in data frame\n",
    "#Max Temperature, Humidity, Cloudiness, Wind Speed\n",
    "\n",
    "#Creating new columns in data frame\n",
    "cities[\"Max Temperature\"] = \"\"\n",
    "cities[\"Humidity\"] = \"\"\n",
    "cities[\"Cloudiness\"] = \"\"\n",
    "cities[\"Wind Speed\"] = \"\"\n",
    "\n",
    "#Requesting weather info and filling the data frame\n",
    "for index, row in cities.iterrows():\n",
    "    \n",
    "    #print(\"\\r\\nDrill #\" + str(index))\n",
    "    \n",
    "    #cities.loc[[index],['City'] returns a series instead of the value from the specific row I'm looking for\n",
    "    city = cities.at[index,'City']\n",
    "    print(city)\n",
    "    \n",
    "    #print(query_url + city)\n",
    "    response = requests.get(query_url + city).json()\n",
    "    \n",
    "    try:\n",
    "\n",
    "        #Extracting the desired fields from the response\n",
    "        max_temp = response['main']['temp_max']\n",
    "        humidity = response['main']['humidity']\n",
    "        cloudiness = response['clouds']['all']\n",
    "        wind_speed = response['wind']['speed']\n",
    "\n",
    "        #print(f\"The max temp for {city} is: {max_temp}\")\n",
    "        #print(f\"The humidity for {city} is: {humidity}\")\n",
    "        #print(f\"The cloudiness for {city} is: {cloudiness}\")\n",
    "        #print(f\"The wind speed for {city} is: {wind_speed}\")\n",
    "\n",
    "        #Filling the data frame\n",
    "        cities.loc[[index],['Max Temperature']] = max_temp\n",
    "        cities.loc[[index],['Humidity']] = humidity\n",
    "        cities.loc[[index],['Cloudiness']] = cloudiness\n",
    "        cities.loc[[index],['Wind Speed']] = wind_speed\n",
    "\n",
    "        #Re-writing the city name with what OpenWeather provides for better formatting\n",
    "        city_name = response['name']\n",
    "        #print(response['name'])\n",
    "        cities.loc[[index],['City']] = city_name\n",
    "\n",
    "    except (KeyError, IndexError):\n",
    "        print(\"Error with city data. Skipping\")\n",
    "        continue\n",
    "    "
   ]
  },
  {
   "cell_type": "code",
   "execution_count": null,
   "metadata": {},
   "outputs": [],
   "source": [
    "cities.head()"
   ]
  },
  {
   "cell_type": "code",
   "execution_count": null,
   "metadata": {},
   "outputs": [],
   "source": [
    "#Save the dataframe into a csv file\n",
    "# Save the DataFrame as a csv\n",
    "cities.to_csv(\"output_analysis/cities.csv\",\n",
    "                     encoding=\"utf-8\", index=False)"
   ]
  },
  {
   "cell_type": "code",
   "execution_count": null,
   "metadata": {},
   "outputs": [],
   "source": [
    "cities.dtypes"
   ]
  },
  {
   "cell_type": "code",
   "execution_count": null,
   "metadata": {},
   "outputs": [],
   "source": [
    "#city latitude vs max temperature\n",
    "#Convert Max Temperature column to float\n",
    "cities[\"Max Temperature\"] = pd.to_numeric(cities[\"Max Temperature\"], errors = 'ignore')\n",
    "# Build a scatter plot for each data type\n",
    "plt.scatter(cities[\"Lat\"],\n",
    "            cities[\"Max Temperature\"],\n",
    "            edgecolor=\"black\", linewidths=1, marker=\"o\",\n",
    "            alpha=0.8, label=\"Temperature\")\n",
    "\n",
    "# Incorporate the other graph properties\n",
    "plt.title(\"City Latitude vs Max Temperature (°C)\")\n",
    "plt.ylabel(\"Max Temperature\")\n",
    "plt.xlabel(\"Latitude\")\n",
    "plt.grid(True)\n",
    "plt.xlim([36, 43.8])\n",
    "plt.ylim([0, 25])\n",
    "\n",
    "# Save the figure\n",
    "plt.savefig(\"output_analysis/Latitude_vs_MaxTemperature.png\")\n",
    "\n",
    "# Show plot\n",
    "plt.show()"
   ]
  },
  {
   "cell_type": "code",
   "execution_count": null,
   "metadata": {},
   "outputs": [],
   "source": [
    "#city latitude vs humidity\n",
    "#Convert Humidity column to float\n",
    "cities[\"Humidity\"] = pd.to_numeric(cities[\"Humidity\"], errors = 'ignore')\n",
    "# Build a scatter plot for each data type\n",
    "plt.scatter(cities[\"Lat\"],\n",
    "            cities[\"Humidity\"],\n",
    "            edgecolor=\"black\", linewidths=1, marker=\"o\",\n",
    "            alpha=0.8, label=\"Humidity\")\n",
    "\n",
    "# Incorporate the other graph properties\n",
    "plt.title(\"City Latitude vs Humidity (%)\")\n",
    "plt.ylabel(\"Humidity\")\n",
    "plt.xlabel(\"Latitude\")\n",
    "plt.grid(True)\n",
    "plt.xlim([36, 43.8])\n",
    "plt.ylim([40, 100])\n",
    "\n",
    "# Save the figure\n",
    "plt.savefig(\"output_analysis/Latitude_vs_Humidity.png\")\n",
    "\n",
    "# Show plot\n",
    "plt.show()"
   ]
  },
  {
   "cell_type": "code",
   "execution_count": null,
   "metadata": {},
   "outputs": [],
   "source": [
    "#city latitude vs Cloudiness\n",
    "#Convert Humidity column to float\n",
    "cities[\"Cloudiness\"] = pd.to_numeric(cities[\"Cloudiness\"], errors = 'ignore')\n",
    "# Build a scatter plot for each data type\n",
    "plt.scatter(cities[\"Lat\"],\n",
    "            cities[\"Cloudiness\"],\n",
    "            edgecolor=\"black\", linewidths=1, marker=\"o\",\n",
    "            alpha=0.8, label=\"Cloudiness\")\n",
    "\n",
    "# Incorporate the other graph properties\n",
    "plt.title(\"City Latitude vs Cloudiness (%)\")\n",
    "plt.ylabel(\"Cloudiness\")\n",
    "plt.xlabel(\"Latitude\")\n",
    "plt.grid(True)\n",
    "plt.xlim([36, 43.8])\n",
    "plt.ylim([40, 100])\n",
    "\n",
    "# Save the figure\n",
    "plt.savefig(\"output_analysis/Latitude_vs_Cloudiness.png\")\n",
    "\n",
    "# Show plot\n",
    "plt.show()"
   ]
  },
  {
   "cell_type": "code",
   "execution_count": null,
   "metadata": {},
   "outputs": [],
   "source": [
    "#city latitude vs Wind Speed\n",
    "#Convert Humidity column to float\n",
    "cities[\"Wind Speed\"] = pd.to_numeric(cities[\"Wind Speed\"], errors = 'ignore')\n",
    "# Build a scatter plot for each data type\n",
    "plt.scatter(cities[\"Lat\"],\n",
    "            cities[\"Wind Speed\"],\n",
    "            edgecolor=\"black\", linewidths=1, marker=\"o\",\n",
    "            alpha=0.8, label=\"Wind Speed\")\n",
    "\n",
    "# Incorporate the other graph properties\n",
    "plt.title(\"City Latitude vs Wind Speed (m/s)\")\n",
    "plt.ylabel(\"Wind Speed\")\n",
    "plt.xlabel(\"Latitude\")\n",
    "plt.grid(True)\n",
    "plt.xlim([36, 43.8])\n",
    "plt.ylim([0, 15])\n",
    "\n",
    "# Save the figure\n",
    "plt.savefig(\"output_analysis/Latitude_vs_Wind Speed.png\")\n",
    "\n",
    "# Show plot\n",
    "plt.show()"
   ]
  },
  {
   "cell_type": "code",
   "execution_count": null,
   "metadata": {},
   "outputs": [],
   "source": []
  }
 ],
 "metadata": {
  "kernelspec": {
   "display_name": "Python [conda env:PythonData]",
   "language": "python",
   "name": "conda-env-PythonData-py"
  },
  "language_info": {
   "codemirror_mode": {
    "name": "ipython",
    "version": 3
   },
   "file_extension": ".py",
   "mimetype": "text/x-python",
   "name": "python",
   "nbconvert_exporter": "python",
   "pygments_lexer": "ipython3",
   "version": "3.6.4"
  }
 },
 "nbformat": 4,
 "nbformat_minor": 2
}
