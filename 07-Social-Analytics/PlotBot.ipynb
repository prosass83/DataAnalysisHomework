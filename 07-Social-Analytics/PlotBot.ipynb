{
 "cells": [
  {
   "cell_type": "code",
   "execution_count": 1,
   "metadata": {},
   "outputs": [],
   "source": [
    "# Dependencies\n",
    "import tweepy\n",
    "import time\n",
    "import json\n",
    "from textblob import TextBlob\n",
    "import matplotlib.pyplot as plt\n",
    "import seaborn as sns\n",
    "import pandas as pd\n",
    "import numpy as np\n",
    "from pprint import pprint\n",
    "from config import consumer_key, consumer_secret, access_token, access_token_secret"
   ]
  },
  {
   "cell_type": "code",
   "execution_count": 2,
   "metadata": {},
   "outputs": [],
   "source": [
    "# Setup Tweepy API Authentication\n",
    "auth = tweepy.OAuthHandler(consumer_key, consumer_secret)\n",
    "auth.set_access_token(access_token, access_token_secret)\n",
    "api = tweepy.API(auth, parser=tweepy.parsers.JSONParser())"
   ]
  },
  {
   "cell_type": "code",
   "execution_count": 3,
   "metadata": {},
   "outputs": [],
   "source": [
    "#def ScanTweets():\n",
    "def ScanTweets(tweet_id):\n",
    "    #Gets last tweet where user has been mentioned\n",
    "    mentions = api.mentions_timeline(since_id=tweet_id ,count=1)\n",
    "    #If tweet list is not empty\n",
    "    if mentions:\n",
    "        for mention in mentions:\n",
    "            #pprint (mention[\"text\"])\n",
    "            #pprint (mention)\n",
    "            user_mentions = mention[\"entities\"][\"user_mentions\"]\n",
    "            #The user whose tweets will be analyzed is the second one mentioned in the tweet (index [1])\n",
    "            target_user = user_mentions[1][\"name\"]\n",
    "            requesting_user = mention[\"user\"][\"screen_name\"]\n",
    "            #Saving the incoming tweet id so that we do not repost the same analysis multiple times\n",
    "            current_tweet_id = mention[\"id\"]\n",
    "            #for user_mention in user_mentions:\n",
    "            #    print(counter)\n",
    "            #    pprint (user_mention)\n",
    "            #    counter = counter + 1\n",
    "            #pprint(target_user)\n",
    "            analysis= []\n",
    "            #Analyze last 500 tweets\n",
    "            #for x in range(1, 3):\n",
    "            for x in range(1, 251):\n",
    "                target_tweets = api.user_timeline(target_user, page=x, count=20)\n",
    "\n",
    "                # Loop through all tweets\n",
    "                for tweet in target_tweets:\n",
    "\n",
    "                    # Run Vader Analysis on each tweet\n",
    "                    results = TextBlob(tweet[\"text\"])\n",
    "                    analysis.append(results.sentiment.polarity)\n",
    "        return analysis, target_user, requesting_user, current_tweet_id\n",
    "    #If list is empty return empty list and the same tweet_id received\n",
    "    else: \n",
    "        analysis = []\n",
    "        current_tweet_id = tweet_id\n",
    "        target_user = \"None\" \n",
    "        requesting_user = \"None\" \n",
    "        return analysis, target_user, requesting_user, current_tweet_id\n",
    "\n",
    "        \n",
    "    "
   ]
  },
  {
   "cell_type": "code",
   "execution_count": 4,
   "metadata": {},
   "outputs": [],
   "source": [
    "def CreateDataFrame(analysis):\n",
    "    #Creating data frame\n",
    "    df = pd.DataFrame(analysis, columns=['Tweet Polarity'])\n",
    "\n",
    "    #Generating a list with an index of tweets ago\n",
    "    tweets_ago = []\n",
    "    counter = 0\n",
    "    length = len(df.index)\n",
    "\n",
    "    for x in range(length):\n",
    "        tweets_ago.append(counter)\n",
    "        counter = counter - 1\n",
    "        \n",
    "    #Adding the list to the data frame\n",
    "    df[\"Tweets Ago\"] = tweets_ago\n",
    "    #print(len(df))\n",
    "    #df.head()\n",
    "    return df"
   ]
  },
  {
   "cell_type": "code",
   "execution_count": 5,
   "metadata": {},
   "outputs": [],
   "source": [
    "def PlotData(df, target_user, requesting_user, tweet_id):\n",
    "    sns.set(style=\"whitegrid\")\n",
    "\n",
    "    fig = sns.regplot(data=df, x=\"Tweets Ago\", y=\"Tweet Polarity\", marker = 'o', label = \"@\" + target_user)\n",
    "    date = time.strftime(\"%d/%m/%Y\")\n",
    "    fig.set_title(\"Sentiment Analysis of Tweets (\" + str(date) + \") \")\n",
    "\n",
    "    plt.legend(mode=\"Expanded\", \n",
    "                  numpoints=1, scatterpoints=1, \n",
    "                  loc=\"upper right\" , \n",
    "                  labelspacing=0.5, shadow=True)\n",
    "    \n",
    "    #Saving Figure to disk\n",
    "    filename = \"Resources/\" + str(tweet_id) + \".png\"\n",
    "    plt.savefig(filename)\n",
    "    plt.show(fig)\n",
    "    \n",
    "    #Tweeting out\n",
    "    \n",
    "    api.update_with_media(filename,\n",
    "                     \"New Tweet Analysis: @\" + target_user + \" (Thanks @\" + requesting_user + \")\")\n"
   ]
  },
  {
   "cell_type": "code",
   "execution_count": 6,
   "metadata": {},
   "outputs": [],
   "source": [
    "#Initializing variables\n",
    "counter = 0\n",
    "last_tweet_id = \"983129773936328703\""
   ]
  },
  {
   "cell_type": "code",
   "execution_count": 7,
   "metadata": {},
   "outputs": [
    {
     "name": "stdout",
     "output_type": "stream",
     "text": [
      "In loop\n"
     ]
    },
    {
     "ename": "AttributeError",
     "evalue": "module 'matplotlib.pyplot' has no attribute 'legendHandles'",
     "output_type": "error",
     "traceback": [
      "\u001b[0;31m---------------------------------------------------------------------------\u001b[0m",
      "\u001b[0;31mAttributeError\u001b[0m                            Traceback (most recent call last)",
      "\u001b[0;32m<ipython-input-7-7ce043f3d2d8>\u001b[0m in \u001b[0;36m<module>\u001b[0;34m()\u001b[0m\n\u001b[1;32m      8\u001b[0m         \u001b[0mprint\u001b[0m\u001b[0;34m(\u001b[0m\u001b[0;34m\"In loop\"\u001b[0m\u001b[0;34m)\u001b[0m\u001b[0;34m\u001b[0m\u001b[0m\n\u001b[1;32m      9\u001b[0m         \u001b[0mdf\u001b[0m \u001b[0;34m=\u001b[0m \u001b[0mCreateDataFrame\u001b[0m\u001b[0;34m(\u001b[0m\u001b[0manalysis\u001b[0m\u001b[0;34m)\u001b[0m\u001b[0;34m\u001b[0m\u001b[0m\n\u001b[0;32m---> 10\u001b[0;31m         \u001b[0mPlotData\u001b[0m\u001b[0;34m(\u001b[0m\u001b[0mdf\u001b[0m\u001b[0;34m,\u001b[0m \u001b[0mtarget_user\u001b[0m\u001b[0;34m,\u001b[0m \u001b[0mrequesting_user\u001b[0m\u001b[0;34m,\u001b[0m \u001b[0mnew_tweet_id\u001b[0m\u001b[0;34m)\u001b[0m\u001b[0;34m\u001b[0m\u001b[0m\n\u001b[0m\u001b[1;32m     11\u001b[0m         \u001b[0mprint\u001b[0m\u001b[0;34m(\u001b[0m\u001b[0mnew_tweet_id\u001b[0m\u001b[0;34m)\u001b[0m\u001b[0;34m\u001b[0m\u001b[0m\n\u001b[1;32m     12\u001b[0m         \u001b[0;31m#Update tweet_id to the latest\u001b[0m\u001b[0;34m\u001b[0m\u001b[0;34m\u001b[0m\u001b[0m\n",
      "\u001b[0;32m<ipython-input-5-8836893adff4>\u001b[0m in \u001b[0;36mPlotData\u001b[0;34m(df, target_user, requesting_user, tweet_id)\u001b[0m\n\u001b[1;32m     10\u001b[0m                   \u001b[0mloc\u001b[0m\u001b[0;34m=\u001b[0m\u001b[0;34m\"upper right\"\u001b[0m \u001b[0;34m,\u001b[0m\u001b[0;34m\u001b[0m\u001b[0m\n\u001b[1;32m     11\u001b[0m                   labelspacing=0.5, shadow=True)\n\u001b[0;32m---> 12\u001b[0;31m     \u001b[0mplt\u001b[0m\u001b[0;34m.\u001b[0m\u001b[0mlegendHandles\u001b[0m\u001b[0;34m.\u001b[0m\u001b[0m_sizes\u001b[0m \u001b[0;34m=\u001b[0m \u001b[0;34m[\u001b[0m\u001b[0;36m30\u001b[0m\u001b[0;34m]\u001b[0m\u001b[0;34m\u001b[0m\u001b[0m\n\u001b[0m\u001b[1;32m     13\u001b[0m \u001b[0;34m\u001b[0m\u001b[0m\n\u001b[1;32m     14\u001b[0m     \u001b[0;31m#blue_patch = mpatches.Patch(color='blue', label='The red data')\u001b[0m\u001b[0;34m\u001b[0m\u001b[0;34m\u001b[0m\u001b[0m\n",
      "\u001b[0;31mAttributeError\u001b[0m: module 'matplotlib.pyplot' has no attribute 'legendHandles'"
     ]
    },
    {
     "data": {
      "image/png": "[encoded data removed]",
      "text/plain": [
       "<Figure size 432x288 with 1 Axes>"
      ]
     },
     "metadata": {},
     "output_type": "display_data"
    }
   ],
   "source": [
    "# Infinitely loop\n",
    "while(True):\n",
    "\n",
    "    #Repeat Analysis now that there are no new tweets\n",
    "    analysis, target_user, requesting_user, new_tweet_id = ScanTweets(last_tweet_id)\n",
    "    #Do analysis and plot only if there is a new tweet\n",
    "    if (last_tweet_id != new_tweet_id):\n",
    "        print(\"In loop\")\n",
    "        df = CreateDataFrame(analysis)\n",
    "        PlotData(df, target_user, requesting_user, new_tweet_id)\n",
    "        print(new_tweet_id)\n",
    "        #Update tweet_id to the latest \n",
    "        last_tweet_id = new_tweet_id\n",
    "\n",
    "    # Once tweeted, wait 300 seconds before doing anything else\n",
    "    time.sleep(300)\n",
    "\n",
    "    # Add 1 to the counter prior to re-running the loop\n",
    "    counter = counter + 1\n",
    "    print(str(counter))"
   ]
  },
  {
   "cell_type": "code",
   "execution_count": null,
   "metadata": {},
   "outputs": [],
   "source": []
  }
 ],
 "metadata": {
  "kernelspec": {
   "display_name": "Python [conda env:PythonData]",
   "language": "python",
   "name": "conda-env-PythonData-py"
  },
  "language_info": {
   "codemirror_mode": {
    "name": "ipython",
    "version": 3
   },
   "file_extension": ".py",
   "mimetype": "text/x-python",
   "name": "python",
   "nbconvert_exporter": "python",
   "pygments_lexer": "ipython3",
   "version": "3.5.5"
  }
 },
 "nbformat": 4,
 "nbformat_minor": 2
}
