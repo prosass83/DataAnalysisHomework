{
 "cells": [
  {
   "cell_type": "code",
   "execution_count": 8,
   "metadata": {},
   "outputs": [],
   "source": [
    "# Dependencies\n",
    "import json"
   ]
  },
  {
   "cell_type": "code",
   "execution_count": 11,
   "metadata": {},
   "outputs": [],
   "source": [
    "# Read JSONs\n",
    "sample = \"assets/dataJobs_simple.json\"\n",
    "\n",
    "def load_json(jsonfile):\n",
    "    \"\"\"Load JSON from a file\"\"\"\n",
    "    with open(jsonfile) as file_handle:\n",
    "        return json.load(file_handle)\n",
    "    "
   ]
  },
  {
   "cell_type": "code",
   "execution_count": 12,
   "metadata": {},
   "outputs": [],
   "source": [
    "data = load_json(sample)"
   ]
  },
  {
   "cell_type": "code",
   "execution_count": 13,
   "metadata": {},
   "outputs": [
    {
     "name": "stdout",
     "output_type": "stream",
     "text": [
      "{\n",
      "    \"city\": \"Manchester\",\n",
      "    \"company\": \"Emerson Ecologics\",\n",
      "    \"duration\": \"NEW\",\n",
      "    \"location\": [\n",
      "        42.9844,\n",
      "        -71.4445\n",
      "    ],\n",
      "    \"rating\": 3.4,\n",
      "    \"salaryMAX\": 73000,\n",
      "    \"salaryMED\": 56000,\n",
      "    \"salaryMIN\": 42000,\n",
      "    \"state\": \"NH\",\n",
      "    \"title\": \"Data Analyst\"\n",
      "}\n"
     ]
    }
   ],
   "source": [
    "print(json.dumps(data[0], indent=4, sort_keys=True))"
   ]
  },
  {
   "cell_type": "code",
   "execution_count": 25,
   "metadata": {},
   "outputs": [
    {
     "data": {
      "text/plain": [
       "45.5372"
      ]
     },
     "execution_count": 25,
     "metadata": {},
     "output_type": "execute_result"
    }
   ],
   "source": [
    "data[2][\"location\"][0]"
   ]
  },
  {
   "cell_type": "code",
   "execution_count": 26,
   "metadata": {},
   "outputs": [],
   "source": [
    "geojson = {\n",
    "    \"type\": \"FeatureCollection\",\n",
    "    \"features\": [\n",
    "    {\n",
    "        \"type\": \"Feature\",\n",
    "        \"geometry\" : {\n",
    "            \"type\": \"Point\",\n",
    "            \"coordinates\": [d[\"location\"][1], d[\"location\"][0]],\n",
    "            },\n",
    "        \"properties\" : d,\n",
    "     } for d in data]\n",
    "}"
   ]
  },
  {
   "cell_type": "code",
   "execution_count": 34,
   "metadata": {},
   "outputs": [
    {
     "name": "stdout",
     "output_type": "stream",
     "text": [
      "{'features': [{'properties': {'city': 'Manchester', 'title': 'Data Analyst', 'salaryMED': 56000, 'salaryMAX': 73000, 'company': 'Emerson Ecologics', 'state': 'NH', 'salaryMIN': 42000, 'rating': 3.4, 'duration': 'NEW', 'location': [42.9844, -71.4445]}, 'type': 'Feature', 'geometry': {'type': 'Point', 'coordinates': [-71.4445, 42.9844]}}, {'properties': {'city': 'Boca Raton', 'title': 'Data Analyst', 'salaryMED': 54000, 'salaryMAX': 69000, 'company': 'Infinity Sales Group', 'state': 'FL', 'salaryMIN': 40000, 'rating': 2.9, 'duration': '11d', 'location': [26.3749, -80.1078]}, 'type': 'Feature', 'geometry': {'type': 'Point', 'coordinates': [-80.1078, 26.3749]}}, {'properties': {'city': 'Portland', 'title': 'Data Analyst', 'salaryMED': 56000, 'salaryMAX': 74000, 'company': 'Simple', 'state': 'OR', 'salaryMIN': 43000, 'rating': 2.8, 'duration': '4d', 'location': [45.5372, -122.65]}, 'type': 'Feature', 'geometry': {'type': 'Point', 'coordinates': [-122.65, 45.5372]}}], 'type': 'FeatureCollection'}\n"
     ]
    }
   ],
   "source": [
    "print(geojson)"
   ]
  },
  {
   "cell_type": "code",
   "execution_count": 36,
   "metadata": {},
   "outputs": [
    {
     "name": "stdout",
     "output_type": "stream",
     "text": [
      "[-71.4445, 42.9844]\n",
      "[-80.1078, 26.3749]\n",
      "[-122.65, 45.5372]\n"
     ]
    }
   ],
   "source": [
    "# Loop through all tweets\n",
    "for job in geojson[\"features\"]:\n",
    "\n",
    "    # Utilize JSON dumps to generate a pretty-printed json\n",
    "    # print(json.dumps(tweet, sort_keys=True, indent=4, separators=(',', ': ')))\n",
    "    print(job[\"geometry\"][\"coordinates\"])"
   ]
  },
  {
   "cell_type": "code",
   "execution_count": null,
   "metadata": {},
   "outputs": [],
   "source": []
  }
 ],
 "metadata": {
  "kernelspec": {
   "display_name": "Python [conda env:PythonData]",
   "language": "python",
   "name": "conda-env-PythonData-py"
  },
  "language_info": {
   "codemirror_mode": {
    "name": "ipython",
    "version": 3
   },
   "file_extension": ".py",
   "mimetype": "text/x-python",
   "name": "python",
   "nbconvert_exporter": "python",
   "pygments_lexer": "ipython3",
   "version": "3.5.5"
  }
 },
 "nbformat": 4,
 "nbformat_minor": 2
}
